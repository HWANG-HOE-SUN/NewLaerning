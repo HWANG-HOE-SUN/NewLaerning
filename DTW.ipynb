{
  "nbformat": 4,
  "nbformat_minor": 0,
  "metadata": {
    "colab": {
      "name": "DTW.ipynb",
      "provenance": [],
      "authorship_tag": "ABX9TyPsU85lTq+2pM+aG0EQDxFq",
      "include_colab_link": true
    },
    "kernelspec": {
      "name": "python3",
      "display_name": "Python 3"
    },
    "language_info": {
      "name": "python"
    }
  },
  "cells": [
    {
      "cell_type": "markdown",
      "metadata": {
        "id": "view-in-github",
        "colab_type": "text"
      },
      "source": [
        "<a href=\"https://colab.research.google.com/github/HWANG-HOE-SUN/NewLaerning/blob/master/DTW.ipynb\" target=\"_parent\"><img src=\"https://colab.research.google.com/assets/colab-badge.svg\" alt=\"Open In Colab\"/></a>"
      ]
    },
    {
      "cell_type": "code",
      "metadata": {
        "id": "Ck4a-xZmh8xa"
      },
      "source": [
        "import numpy as np\n",
        "import sys"
      ],
      "execution_count": 5,
      "outputs": []
    },
    {
      "cell_type": "code",
      "metadata": {
        "id": "rkKIql-yh5cO"
      },
      "source": [
        "def DTW(A,B, window=sys.maxsize, d=lambda x,y: abs(x-y)):\n",
        "  # 비용 행렬 초기화\n",
        "  A, B = np.array(A), np.array(B)\n",
        "  M, N = len(A) , len(B)\n",
        "  cost = sys.maxsize * np.ones((M,N))\n",
        "  \n",
        "  # 첫번째 로우, 컬럼 채우기\n",
        "  cost[0,0] = d(A[0],B[0])\n",
        "  for i in range(1,M):\n",
        "    cost[i,0] = cost[i-1,0] + d(A[i],B[0])\n",
        "\n",
        "  for j in range(1,N):\n",
        "    cost[0,j] = cost[0,j-1] + d(A[0],B[j])\n",
        "  \n",
        "  # 나머지 행렬 채우기\n",
        "  for i in range(1,M):\n",
        "    for j in range(max(1,i-window), min(N, i+window)):\n",
        "      choices = cost[i-1, j-1] , cost[i,j-1], cost[i-1,j]\n",
        "      cost[i,j] = min(choices) + d(A[i],B[j])\n",
        "  \n",
        "  # 최적 경로 구하기\n",
        "  n, m = N-1, M-1\n",
        "  path = []\n",
        "\n",
        "  while (m,n) != (0,0):\n",
        "    path.append((m,n))\n",
        "    m,n = min((m-1, n), (n,n-1), (m-1,n-1) , key=lambda x: cost[x[0], x[1]])\n",
        "  path.append((0,0))\n",
        "  return cost[-1,-1], path"
      ],
      "execution_count": 6,
      "outputs": []
    },
    {
      "cell_type": "code",
      "metadata": {
        "id": "I4GRCiUsja1R"
      },
      "source": [
        "def main():\n",
        "  A = np.array([1,2,3,4,2,3])\n",
        "  B = np.array([7,8,5,9,11,9])\n",
        "\n",
        "  A = np.array([1,1,2,3,3,2])\n",
        "  B = np.array([1,2,3,3,2,1])\n",
        "\n",
        "  cost, path = DTW(A,B, window=6)\n",
        "  print('Total Distance is ', cost)\n",
        "\n",
        "  import matplotlib.pyplot as plt\n",
        "  offset = 5\n",
        "  plt.xlim([-1, max(len(A), len(B))+1])\n",
        "  plt.plot(A)\n",
        "  plt.plot(B+offset)\n",
        "  for (x1,x2) in path:\n",
        "    plt.plot([x1,x2], [A[x1], B[x2] + offset])\n",
        "  plt.show()"
      ],
      "execution_count": 8,
      "outputs": []
    },
    {
      "cell_type": "code",
      "metadata": {
        "colab": {
          "base_uri": "https://localhost:8080/",
          "height": 282
        },
        "id": "ockyXlk1j7FA",
        "outputId": "f41ca87b-8459-4e74-8047-d6df23868362"
      },
      "source": [
        "main()"
      ],
      "execution_count": 9,
      "outputs": [
        {
          "output_type": "stream",
          "text": [
            "Total Distance is  1.0\n"
          ],
          "name": "stdout"
        },
        {
          "output_type": "display_data",
          "data": {
            "image/png": "[encoded data removed]",
            "text/plain": [
              "<Figure size 432x288 with 1 Axes>"
            ]
          },
          "metadata": {
            "tags": [],
            "needs_background": "light"
          }
        }
      ]
    }
  ]
}